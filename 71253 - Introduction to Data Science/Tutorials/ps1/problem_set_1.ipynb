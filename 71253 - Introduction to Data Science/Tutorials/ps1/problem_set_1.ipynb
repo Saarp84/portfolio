{
 "cells": [
  {
   "cell_type": "markdown",
   "metadata": {
    "id": "ROcR1MUMM8pE"
   },
   "source": [
    "# Intro to Data Sciecne (71253) - Problem Set 1"
   ]
  },
  {
   "cell_type": "markdown",
   "metadata": {},
   "source": [
    "### Saar Pardo"
   ]
  },
  {
   "cell_type": "markdown",
   "metadata": {
    "id": "4Tte5xWQM8pI"
   },
   "source": [
    "## Instructions"
   ]
  },
  {
   "cell_type": "markdown",
   "metadata": {
    "id": "O-AUxYdeM8pI"
   },
   "source": [
    "Complete the tasks and answer each of the questions below using both text and code cells, as needed.    \n",
    "Your code needs to be able to excute properly.   \n",
    "Make sure to include complete answers. This can be done either using a text cell, or by formating and printing a string (using the 'format' and 'print' functions). See example below.  \n",
    "  \n",
    "Do **not** just dump the value of a variable onto the screen. "
   ]
  },
  {
   "cell_type": "markdown",
   "metadata": {
    "id": "TJb41CjaM8pJ"
   },
   "source": [
    "### Example of desired output format"
   ]
  },
  {
   "cell_type": "markdown",
   "metadata": {
    "id": "G-0pZJilM8pJ"
   },
   "source": [
    "As an example, let's consider the question:  \n",
    "> \"How excited are you about data science from 1-10\"  \n",
    "\n",
    "and the (obvious) answer:\n",
    "\n",
    ">10\n",
    "\n",
    "The perfered answer formats is:"
   ]
  },
  {
   "cell_type": "code",
   "execution_count": null,
   "metadata": {
    "id": "IQ-T0voEM8pK",
    "outputId": "b3863959-4d0d-44ac-9078-d2d79739db4f"
   },
   "outputs": [
    {
     "name": "stdout",
     "output_type": "stream",
     "text": [
      "My level of excitment about data science is 10!\n"
     ]
    }
   ],
   "source": [
    "excitment = 10\n",
    "print(\"My level of excitment about data science is {ex:0}!\".format(ex=excitment))"
   ]
  },
  {
   "cell_type": "markdown",
   "metadata": {
    "id": "x1fSn9pQM8pL"
   },
   "source": [
    "  "
   ]
  },
  {
   "cell_type": "markdown",
   "metadata": {
    "id": "cL1GcZ9HM8pM"
   },
   "source": [
    "  \n",
    "  Altenrtively, you can hard-code the answer in a text cell:   "
   ]
  },
  {
   "cell_type": "markdown",
   "metadata": {
    "id": "jKHPrVCKM8pM"
   },
   "source": [
    "My level of excitment about data science is 10!"
   ]
  },
  {
   "cell_type": "markdown",
   "metadata": {
    "id": "k8IgrYV3M8pN"
   },
   "source": [
    "    \n",
    "      \n",
    "      "
   ]
  },
  {
   "cell_type": "markdown",
   "metadata": {
    "id": "a7Jq4LKtM8pN"
   },
   "source": [
    "This format is advised only for answers that do not contain the outputs of any code since it is prone to errors - if the code/output changes, the hard-coded text does not."
   ]
  },
  {
   "cell_type": "markdown",
   "metadata": {
    "id": "Di7gCDpXM8pO"
   },
   "source": [
    "### Example of unacceptable output format"
   ]
  },
  {
   "cell_type": "markdown",
   "metadata": {
    "id": "m0p2kiEoM8pO"
   },
   "source": [
    "An unacceptable format is dump the value of a variable onto the screen. For example:"
   ]
  },
  {
   "cell_type": "code",
   "execution_count": null,
   "metadata": {
    "id": "9MqoPYEmM8pO",
    "outputId": "b36b0e32-ba3d-4339-ab74-9c8b2bc3dfcc"
   },
   "outputs": [
    {
     "data": {
      "text/plain": [
       "10"
      ]
     },
     "execution_count": 135,
     "metadata": {},
     "output_type": "execute_result"
    }
   ],
   "source": [
    "excitment = 10\n",
    "excitment"
   ]
  },
  {
   "cell_type": "markdown",
   "metadata": {
    "id": "SApp8ju_M8pP"
   },
   "source": [
    "***"
   ]
  },
  {
   "cell_type": "markdown",
   "metadata": {
    "id": "EvHKb3E7M8pP"
   },
   "source": [
    "## 1. Imports and parsing"
   ]
  },
  {
   "cell_type": "code",
   "execution_count": 1,
   "metadata": {
    "id": "0wkjqlvBM8pP"
   },
   "outputs": [],
   "source": [
    "## Import the equired libraries for the pset here.\n",
    "## It is a good habit to start with the imports you'll need in a separare code block.\n",
    "\n",
    "import pandas as pd\n",
    "import numpy as np"
   ]
  },
  {
   "cell_type": "code",
   "execution_count": 2,
   "metadata": {
    "id": "v4HvtG1DM8pQ"
   },
   "outputs": [],
   "source": [
    "## read the data from the file \"okcupid_profiles_ps1.csv\" into a pandas dataframe.\n",
    "## Note that the first column of in the file is already the record number (or index). \n",
    "\n",
    "Okcupid = pd.read_csv('okcupid_profiles_ps1.csv',index_col=0)"
   ]
  },
  {
   "cell_type": "markdown",
   "metadata": {
    "id": "GsOQu5yXM8pQ"
   },
   "source": [
    "*** "
   ]
  },
  {
   "cell_type": "markdown",
   "metadata": {
    "id": "SAmfPI8KM8pQ"
   },
   "source": [
    "## 2. Overall data structure"
   ]
  },
  {
   "cell_type": "markdown",
   "metadata": {
    "id": "N_zgbCrbM8pR"
   },
   "source": [
    "### 2.1 How many records does the data contain?"
   ]
  },
  {
   "cell_type": "code",
   "execution_count": 3,
   "metadata": {},
   "outputs": [
    {
     "data": {
      "text/plain": [
       "10000"
      ]
     },
     "execution_count": 3,
     "metadata": {},
     "output_type": "execute_result"
    }
   ],
   "source": [
    "len(Okcupid)"
   ]
  },
  {
   "cell_type": "markdown",
   "metadata": {},
   "source": [
    "* 10000 records"
   ]
  },
  {
   "cell_type": "markdown",
   "metadata": {
    "id": "Hz_PeMTvM8pR"
   },
   "source": [
    "### 2.2 How many variables does the data contain?"
   ]
  },
  {
   "cell_type": "code",
   "execution_count": 4,
   "metadata": {},
   "outputs": [
    {
     "data": {
      "text/plain": [
       "(10000, 21)"
      ]
     },
     "execution_count": 4,
     "metadata": {},
     "output_type": "execute_result"
    }
   ],
   "source": [
    "Okcupid.shape"
   ]
  },
  {
   "cell_type": "markdown",
   "metadata": {},
   "source": [
    "* 21 variables"
   ]
  },
  {
   "cell_type": "markdown",
   "metadata": {
    "id": "ylY6uPXlM8pS"
   },
   "source": [
    "### 2.3 What are the names of the first 5 variables?"
   ]
  },
  {
   "cell_type": "code",
   "execution_count": 5,
   "metadata": {},
   "outputs": [
    {
     "data": {
      "text/plain": [
       "['age', 'status', 'sex', 'orientation', 'body_type']"
      ]
     },
     "execution_count": 5,
     "metadata": {},
     "output_type": "execute_result"
    }
   ],
   "source": [
    "Okcupid.columns.tolist()[:5]"
   ]
  },
  {
   "cell_type": "markdown",
   "metadata": {},
   "source": [
    "* the first five columns are : `age`, `status`, `sex`, `orientation`, `body_type`"
   ]
  },
  {
   "cell_type": "markdown",
   "metadata": {
    "id": "KhmduzfVM8pS"
   },
   "source": [
    "***"
   ]
  },
  {
   "cell_type": "markdown",
   "metadata": {
    "id": "szxNqU5iM8pS"
   },
   "source": [
    "## 3. Variable types"
   ]
  },
  {
   "cell_type": "markdown",
   "metadata": {
    "id": "LhkkCf-9M8pS"
   },
   "source": [
    "### 3.1 What are the types of the variables 'age', 'status', 'education', 'body_type', and 'drinks'?  \n",
    "(e.g. Continous, Ordinal, etc'. Note that this is not the same as the python `dtype)"
   ]
  },
  {
   "cell_type": "code",
   "execution_count": 13,
   "metadata": {},
   "outputs": [
    {
     "name": "stdout",
     "output_type": "stream",
     "text": [
      "<class 'pandas.core.frame.DataFrame'>\n",
      "Int64Index: 10000 entries, 0 to 9999\n",
      "Data columns (total 5 columns):\n",
      " #   Column     Non-Null Count  Dtype \n",
      "---  ------     --------------  ----- \n",
      " 0   age        10000 non-null  int64 \n",
      " 1   status     10000 non-null  object\n",
      " 2   education  8892 non-null   object\n",
      " 3   body_type  9103 non-null   object\n",
      " 4   drinks     9468 non-null   object\n",
      "dtypes: int64(1), object(4)\n",
      "memory usage: 468.8+ KB\n"
     ]
    }
   ],
   "source": [
    "Okcupid[['age', 'status', 'education', 'body_type', 'drinks']].info()"
   ]
  },
  {
   "cell_type": "code",
   "execution_count": 18,
   "metadata": {},
   "outputs": [
    {
     "data": {
      "text/plain": [
       "array(['socially', 'often', 'not at all', 'rarely', nan, 'very often',\n",
       "       'desperately'], dtype=object)"
      ]
     },
     "execution_count": 18,
     "metadata": {},
     "output_type": "execute_result"
    }
   ],
   "source": [
    "Okcupid.drinks.unique()"
   ]
  },
  {
   "cell_type": "markdown",
   "metadata": {},
   "source": [
    "* The `age` type is Quantitative Discrete (integer)\n",
    "* The `status` type is Qualitative Nominal (object)\n",
    "* The `education` type is Qualitative Nominal (object)\n",
    "* The `body_type` type is Qualitative Nominal (object)\n",
    "* The `drinks` type is Qualitative Nominal (object)"
   ]
  },
  {
   "cell_type": "markdown",
   "metadata": {
    "id": "7Hq9a6K4M8pT"
   },
   "source": [
    "### 3.2 Formulate 3 questions involving a single variable.  \n",
    "(e.g. How many vegeterians are there in the data?)"
   ]
  },
  {
   "cell_type": "code",
   "execution_count": 25,
   "metadata": {},
   "outputs": [
    {
     "data": {
      "text/plain": [
       "array(['straight', 'bisexual', 'gay'], dtype=object)"
      ]
     },
     "execution_count": 25,
     "metadata": {},
     "output_type": "execute_result"
    }
   ],
   "source": [
    "Okcupid.orientation.unique()"
   ]
  },
  {
   "cell_type": "markdown",
   "metadata": {},
   "source": [
    "1. how many users are defined as \"bisexuals\" in the data?\n",
    "2. how many users are defined as \"gay\" in the data?\n",
    "2. How many of the user data are straight?"
   ]
  },
  {
   "cell_type": "code",
   "execution_count": 36,
   "metadata": {},
   "outputs": [],
   "source": [
    "b = len(Okcupid[Okcupid['orientation']=='bisexual'])\n",
    "g = len(Okcupid[Okcupid['orientation']=='gay'])\n",
    "s = len(Okcupid[Okcupid['orientation']=='straight'])\n",
    "n =len(Okcupid)"
   ]
  },
  {
   "cell_type": "code",
   "execution_count": 37,
   "metadata": {},
   "outputs": [
    {
     "name": "stdout",
     "output_type": "stream",
     "text": [
      "451 is the number of biosexual users in the data\n",
      "944 is the number of gay users in the data\n",
      "86.1% of the data has straight orientation\n"
     ]
    }
   ],
   "source": [
    "print(f\"{b} is the number of biosexual users in the data\")\n",
    "print(f\"{g} is the number of gay users in the data\")\n",
    "print(f\"{s/n:.1%} of the data has straight orientation\")"
   ]
  },
  {
   "cell_type": "markdown",
   "metadata": {
    "id": "hJUT9FCcM8pT"
   },
   "source": [
    "### 3.3 Formulate 3 questions involving a pair of variables.\n",
    "(e.g. How many vegeterians men are there in the data?)"
   ]
  },
  {
   "cell_type": "code",
   "execution_count": 89,
   "metadata": {},
   "outputs": [
    {
     "data": {
      "text/plain": [
       "Index(['age', 'status', 'sex', 'orientation', 'body_type', 'diet', 'drinks',\n",
       "       'drugs', 'education', 'ethnicity', 'height', 'income', 'job',\n",
       "       'last_online', 'location', 'offspring', 'pets', 'religion', 'sign',\n",
       "       'smokes', 'speaks', 'height_cm'],\n",
       "      dtype='object')"
      ]
     },
     "execution_count": 89,
     "metadata": {},
     "output_type": "execute_result"
    }
   ],
   "source": [
    "1. how many users are defined as \"bisexuals\" and above 40 in the data?\n",
    "2. how many users are defined as \"gay\" and less than 30 in the data?\n",
    "2. How many of the user data are straight and obove 60?"
   ]
  },
  {
   "cell_type": "code",
   "execution_count": 90,
   "metadata": {},
   "outputs": [],
   "source": [
    "b1 = len(Okcupid[(Okcupid['orientation']=='bisexual') &\n",
    "        (Okcupid['age']>40)])\n",
    "\n",
    "g1 = len(Okcupid[(Okcupid['orientation']=='gay') &\n",
    "        (Okcupid['age']<30)])\n",
    "\n",
    "s1 = len(Okcupid[(Okcupid['orientation']=='straight')&\n",
    "        (Okcupid['age']>60)])\n",
    "\n",
    "n1 =len(Okcupid)"
   ]
  },
  {
   "cell_type": "code",
   "execution_count": 94,
   "metadata": {},
   "outputs": [
    {
     "name": "stdout",
     "output_type": "stream",
     "text": [
      "42 is the number of biosexual users that also above than 40 in the data\n",
      "508 is the number of gay users that also younger than 30 in the data\n",
      "1.5% of the data are starights above 60\n"
     ]
    }
   ],
   "source": [
    "print(f\"{b1} is the number of biosexual users that also above than 40 in the data\")\n",
    "print(f\"{g1} is the number of gay users that also younger than 30 in the data\")\n",
    "print(f\"{s1/n1:.1%} of the data are starights above 60\")"
   ]
  },
  {
   "cell_type": "markdown",
   "metadata": {
    "id": "qiWL8i0CM8pU"
   },
   "source": [
    "***"
   ]
  },
  {
   "cell_type": "markdown",
   "metadata": {
    "id": "HfCYFq-lM8pU"
   },
   "source": [
    "## 4. Analyzing body types"
   ]
  },
  {
   "cell_type": "markdown",
   "metadata": {
    "id": "qnLx3g3GM8pU"
   },
   "source": [
    "### 4.1 How many different values of the variable \"body_type\" are there?\n",
    "(Hint: the pandas `unique` function is helpful)"
   ]
  },
  {
   "cell_type": "code",
   "execution_count": 44,
   "metadata": {},
   "outputs": [
    {
     "name": "stdout",
     "output_type": "stream",
     "text": [
      "there are 12 body types in the data\n"
     ]
    }
   ],
   "source": [
    "print(\"there are\" , f\"{Okcupid.body_type.nunique()}\" ,\"body types in the data\")"
   ]
  },
  {
   "cell_type": "markdown",
   "metadata": {
    "id": "BEAf0S90M8pU"
   },
   "source": [
    "### 4.2 What percentage of people report that they have an \"average\", \"fit\", or \"athletic\" body type?  \n",
    "(sum all theree types)"
   ]
  },
  {
   "cell_type": "code",
   "execution_count": 47,
   "metadata": {},
   "outputs": [
    {
     "data": {
      "text/plain": [
       "array(['a little extra', 'average', 'thin', 'athletic', 'fit', nan,\n",
       "       'skinny', 'curvy', 'full figured', 'jacked', 'rather not say',\n",
       "       'used up', 'overweight'], dtype=object)"
      ]
     },
     "execution_count": 47,
     "metadata": {},
     "output_type": "execute_result"
    }
   ],
   "source": [
    "Okcupid.body_type.unique()"
   ]
  },
  {
   "cell_type": "code",
   "execution_count": 57,
   "metadata": {},
   "outputs": [
    {
     "data": {
      "text/plain": [
       "average           2398\n",
       "fit               2127\n",
       "athletic          1981\n",
       "NaN                897\n",
       "thin               779\n",
       "curvy              664\n",
       "a little extra     452\n",
       "skinny             283\n",
       "full figured       189\n",
       "overweight          71\n",
       "jacked              66\n",
       "used up             51\n",
       "rather not say      42\n",
       "Name: body_type, dtype: int64"
      ]
     },
     "execution_count": 57,
     "metadata": {},
     "output_type": "execute_result"
    }
   ],
   "source": [
    "Okcupid.body_type.value_counts(dropna=False)"
   ]
  },
  {
   "cell_type": "code",
   "execution_count": 55,
   "metadata": {
    "scrolled": true
   },
   "outputs": [
    {
     "name": "stdout",
     "output_type": "stream",
     "text": [
      "there are 65% that belong to that group\n"
     ]
    }
   ],
   "source": [
    "n_fit = len(Okcupid[((Okcupid['body_type']=='average')|\n",
    "                        (Okcupid['body_type']=='fit')|\n",
    "                        (Okcupid['body_type']=='athletic'))])\n",
    "print(\"there are\" , f\"{n_fit/len(Okcupid,):.0%}\" , \"that belong to that group\")"
   ]
  },
  {
   "cell_type": "markdown",
   "metadata": {
    "id": "r9nSZRcjM8pV"
   },
   "source": [
    "### (Bonus) How do you interpret the precentage of body types you computed above?  \n",
    "(That is, write a couple of sentences explaining what do you think about this result and what it means.)"
   ]
  },
  {
   "cell_type": "markdown",
   "metadata": {},
   "source": [
    "First of all, I didnt handle missing values so the real percentage may be even greater that 65.\n",
    "I would say that according to the share of that group, most of people in Data perceive themselves as average or above average in terms of body image. There may be bias since people can give false information about themselves. "
   ]
  },
  {
   "cell_type": "markdown",
   "metadata": {
    "id": "HCeRg666M8pV"
   },
   "source": [
    "***"
   ]
  },
  {
   "cell_type": "markdown",
   "metadata": {
    "id": "o5h5YeUXM8pW"
   },
   "source": [
    "## 5. Analyzing heights"
   ]
  },
  {
   "cell_type": "markdown",
   "metadata": {
    "id": "5mBXQfFcM8pW"
   },
   "source": [
    "### 5.1 Heights are reported in inches. Create a new column in your dataframe containing the heights in cm.  \n",
    "(1 inche = 2.54cm)"
   ]
  },
  {
   "cell_type": "code",
   "execution_count": 66,
   "metadata": {},
   "outputs": [],
   "source": [
    "Okcupid['height_cm'] = Okcupid['height']*2.54"
   ]
  },
  {
   "cell_type": "code",
   "execution_count": 95,
   "metadata": {},
   "outputs": [],
   "source": [
    "# Okcupid.columns"
   ]
  },
  {
   "cell_type": "markdown",
   "metadata": {
    "id": "fJgxiDXeM8pW"
   },
   "source": [
    "### 5.2 What are the maximal and minimal heights in the data?  \n",
    "(in cm)"
   ]
  },
  {
   "cell_type": "code",
   "execution_count": 68,
   "metadata": {},
   "outputs": [
    {
     "name": "stdout",
     "output_type": "stream",
     "text": [
      "241.3 is the maximal height in the data\n",
      "91.44 is the minimal height in the data\n"
     ]
    }
   ],
   "source": [
    "maximal_h = max(Okcupid['height_cm'])\n",
    "minimal_h = min(Okcupid['height_cm'])\n",
    "\n",
    "print(f\"{maximal_h} is the maximal height in the data\") \n",
    "print(f\"{minimal_h} is the minimal height in the data\") "
   ]
  },
  {
   "cell_type": "markdown",
   "metadata": {
    "id": "HAeC_7-7M8pW"
   },
   "source": [
    "### How do you interpret the results of the previous question?  \n",
    "(regarding maximal and minimal height)"
   ]
  },
  {
   "cell_type": "markdown",
   "metadata": {},
   "source": [
    "I would like to see the distribution in graph or percentiles because the minimum and maximum values are extreme and cause suspicion"
   ]
  },
  {
   "cell_type": "code",
   "execution_count": 83,
   "metadata": {},
   "outputs": [
    {
     "data": {
      "text/plain": [
       "count    10000.000000\n",
       "mean       173.561248\n",
       "std          9.927545\n",
       "min         91.440000\n",
       "0.1%       147.320000\n",
       "1%         152.400000\n",
       "50%        172.720000\n",
       "99%        193.040000\n",
       "99.9%      203.200000\n",
       "max        241.300000\n",
       "Name: height_cm, dtype: float64"
      ]
     },
     "execution_count": 83,
     "metadata": {},
     "output_type": "execute_result"
    }
   ],
   "source": [
    "Okcupid['height_cm'].describe(percentiles=[0.001,0.01,0.5,0.99,0.999])"
   ]
  },
  {
   "cell_type": "markdown",
   "metadata": {
    "id": "lmswsNHmM8pX"
   },
   "source": [
    "### 5.3 How many men shorter than 170cm are there in the data? How many women?"
   ]
  },
  {
   "cell_type": "code",
   "execution_count": 96,
   "metadata": {},
   "outputs": [],
   "source": [
    "m_170 = len(Okcupid[(Okcupid['height_cm']<170) & (Okcupid['sex']=='m')])\n",
    "f_170 = len(Okcupid[(Okcupid['height_cm']<170) & (Okcupid['sex']=='f')])"
   ]
  },
  {
   "cell_type": "code",
   "execution_count": 97,
   "metadata": {},
   "outputs": [
    {
     "name": "stdout",
     "output_type": "stream",
     "text": [
      "there are 479 men with height under 170cm while there are 2754 women with height under 170cm\n"
     ]
    }
   ],
   "source": [
    "print(\"there are\" , f\"{m_170} men with height under 170cm while there are\", f\"{f_170}\",\"women with height under 170cm\")  "
   ]
  },
  {
   "cell_type": "markdown",
   "metadata": {
    "id": "52iagGloM8pX"
   },
   "source": [
    "### How do you interpret the results of the previous question?  \n",
    "(regarding people under 170cm)"
   ]
  },
  {
   "cell_type": "markdown",
   "metadata": {},
   "source": [
    "As a man I can think of a reason for men to lie about their height on a dating app, this could be reflected in the results as only 479 of the men claimed to be under 170cm.\n",
    "\n",
    "The average height for a man is 160.5cm (google)"
   ]
  }
 ],
 "metadata": {
  "colab": {
   "collapsed_sections": [],
   "name": "problem_set_1.ipynb",
   "provenance": []
  },
  "kernelspec": {
   "display_name": "Python 3 (ipykernel)",
   "language": "python",
   "name": "python3"
  },
  "language_info": {
   "codemirror_mode": {
    "name": "ipython",
    "version": 3
   },
   "file_extension": ".py",
   "mimetype": "text/x-python",
   "name": "python",
   "nbconvert_exporter": "python",
   "pygments_lexer": "ipython3",
   "version": "3.10.9"
  }
 },
 "nbformat": 4,
 "nbformat_minor": 4
}
