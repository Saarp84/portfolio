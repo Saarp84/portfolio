{
 "cells": [
  {
   "cell_type": "code",
   "execution_count": 2,
   "metadata": {},
   "outputs": [
    {
     "name": "stdout",
     "output_type": "stream",
     "text": [
      "%pylab is deprecated, use %matplotlib inline and import the required libraries.\n",
      "Populating the interactive namespace from numpy and matplotlib\n"
     ]
    }
   ],
   "source": [
    "%pylab inline \n",
    "import pandas as pd\n",
    "import seaborn as sns\n",
    "sns.set(style='ticks', font_scale=2)"
   ]
  },
  {
   "cell_type": "code",
   "execution_count": 3,
   "metadata": {},
   "outputs": [],
   "source": [
    "import scipy.stats as stats\n",
    "from ipywidgets import interact, interactive, fixed"
   ]
  },
  {
   "cell_type": "code",
   "execution_count": 6,
   "metadata": {},
   "outputs": [],
   "source": [
    "dfile = r\"C:\\Users\\saarp\\Desktop\\71253\\ps2\\okcupid_profiles_ps2.csv\"\n",
    "data = pd.read_csv(dfile)\n",
    "data['height_cm'] = data.height*2.54"
   ]
  },
  {
   "cell_type": "markdown",
   "metadata": {},
   "source": [
    "## hist demo"
   ]
  },
  {
   "cell_type": "code",
   "execution_count": 12,
   "metadata": {},
   "outputs": [
    {
     "data": {
      "application/vnd.jupyter.widget-view+json": {
       "model_id": "96da0e0d2af24878b430a289c2a5e82f",
       "version_major": 2,
       "version_minor": 0
      },
      "text/plain": [
       "interactive(children=(IntSlider(value=97, description='bins', max=200, min=2, step=5), Output()), _dom_classes…"
      ]
     },
     "metadata": {},
     "output_type": "display_data"
    }
   ],
   "source": [
    "x = 'age'\n",
    "l = False\n",
    "\n",
    "@interact(bins=(2,200, 5))\n",
    "def plot_hist(bins):\n",
    "    fig, ax = subplots(figsize=(10,8))\n",
    "    sns.histplot(data=data, x=x, bins=bins, stat='density')\n",
    "    plt.xlim(0,100)"
   ]
  },
  {
   "cell_type": "markdown",
   "metadata": {},
   "source": [
    "## KDE demo"
   ]
  },
  {
   "cell_type": "code",
   "execution_count": 10,
   "metadata": {},
   "outputs": [
    {
     "data": {
      "application/vnd.jupyter.widget-view+json": {
       "model_id": "29a75ad57deb494db68ae2985962f748",
       "version_major": 2,
       "version_minor": 0
      },
      "text/plain": [
       "interactive(children=(FloatSlider(value=0.7100000000000001, description='s', max=1.5, min=0.01), Checkbox(valu…"
      ]
     },
     "metadata": {},
     "output_type": "display_data"
    }
   ],
   "source": [
    "n = 10\n",
    "d = stats.norm()\n",
    "xs = d.rvs(n)\n",
    "\n",
    "x_all = linspace(-3,3, 1000)\n",
    "pdf = d.pdf(x_all)\n",
    "\n",
    "@interact(s=(0.01,1.5, .1), show_kernerls=False, show_kde=False)\n",
    "def plot_kde_kernels(s, show_kernerls, show_kde):  \n",
    "    fig, ax = subplots(figsize=(10,8))\n",
    "    lw=3\n",
    "\n",
    "    ax.plot(xs, 0*xs, 'ro', ms=15)\n",
    "    ax.plot(x_all, pdf, c='cornflowerblue', lw=lw)\n",
    "    \n",
    "\n",
    "    kde = zeros(1000)\n",
    "    for x in xs:\n",
    "        g = stats.norm.pdf(x_all, x, s)/n\n",
    "        kde += g\n",
    "        if show_kernerls:\n",
    "            ax.fill_between(x_all, g, lw=lw, color='grey', alpha=0.5)\n",
    "    \n",
    "    if show_kde:\n",
    "        ax.plot(x_all, kde, 'k', lw=3)\n",
    "\n",
    "    # xlabel('x')\n",
    "    ylabel('density')\n",
    "    \n",
    "    ax.set_xticks([])\n",
    "    ax.set_xlim(-3,3)\n",
    "    ax.set_ylim(0,0.5)\n",
    "    \n",
    "    ax.text(2.9,0.1, 'population\\ndistribution', va='bottom', ha='right', color='cornflowerblue')\n",
    "    ax.text(0,-0.01, 'samples', va='top', ha='center', color='r')"
   ]
  },
  {
   "cell_type": "code",
   "execution_count": 5,
   "metadata": {},
   "outputs": [
    {
     "data": {
      "application/vnd.jupyter.widget-view+json": {
       "model_id": "80e6fa6c082943bc910c59ad88b0167d",
       "version_major": 2,
       "version_minor": 0
      },
      "text/plain": [
       "interactive(children=(FloatSlider(value=1.5000000000000002, description='bw_adjust', max=3.0, min=0.1), Checkb…"
      ]
     },
     "metadata": {},
     "output_type": "display_data"
    }
   ],
   "source": [
    "x = 'age'\n",
    "l = False\n",
    "\n",
    "@interact(bw_adjust=(0.1,3, 0.1), cut=False)\n",
    "def plot_kde(bw_adjust, cut):\n",
    "    fig, ax = subplots(figsize=(10,8))\n",
    "    cut = 0 if cut else 3   \n",
    "    sns.histplot(data=data, x=x, stat='density')\n",
    "    sns.kdeplot(data=data, x=x, lw=3, c='k', bw_adjust=bw_adjust, cut=cut)\n",
    "    plt.xlim(0,100)"
   ]
  },
  {
   "cell_type": "code",
   "execution_count": null,
   "metadata": {},
   "outputs": [],
   "source": []
  }
 ],
 "metadata": {
  "kernelspec": {
   "display_name": "Python 3 (ipykernel)",
   "language": "python",
   "name": "python3"
  },
  "language_info": {
   "codemirror_mode": {
    "name": "ipython",
    "version": 3
   },
   "file_extension": ".py",
   "mimetype": "text/x-python",
   "name": "python",
   "nbconvert_exporter": "python",
   "pygments_lexer": "ipython3",
   "version": "3.12.4"
  }
 },
 "nbformat": 4,
 "nbformat_minor": 4
}
