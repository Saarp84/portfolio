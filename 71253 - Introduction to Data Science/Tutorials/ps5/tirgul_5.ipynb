{
 "cells": [
  {
   "cell_type": "markdown",
   "metadata": {},
   "source": [
    "---\n",
    "title: \"Tutorial 5\"\n",
    "execute:\n",
    "  # echo: false\n",
    "  freeze: auto  # re-render only when source changes\n",
    "format:\n",
    "  html:\n",
    "    code-fold: false\n",
    "    code-summary: \"Show the code\"\n",
    "---"
   ]
  },
  {
   "cell_type": "markdown",
   "metadata": {},
   "source": [
    "## Topics\n",
    "* Standard error vs. Standard deviation\n",
    "* Boostrapping\n",
    "* Confidence Intervals"
   ]
  },
  {
   "cell_type": "markdown",
   "metadata": {},
   "source": [
    "## Standard error vs. standard deviation"
   ]
  },
  {
   "cell_type": "code",
   "execution_count": 1,
   "metadata": {},
   "outputs": [],
   "source": [
    "import numpy as np\n",
    "import seaborn as sns\n",
    "\n",
    "np.random.seed(42)\n",
    "sns.set_theme(style=\"whitegrid\")"
   ]
  },
  {
   "cell_type": "markdown",
   "metadata": {},
   "source": [
    "Let's define a \"population\" of size 1,000,000. Each member of the population will be a number from the standard normal distribution. We will be using the [numpy function](https://numpy.org/doc/stable/reference/random/generated/numpy.random.randn.html) `randn`"
   ]
  },
  {
   "cell_type": "code",
   "execution_count": 4,
   "metadata": {},
   "outputs": [],
   "source": [
    "# מדגם רנדומלי של משתנה עם ממוצע 0 וסטיית תקן 1\n",
    "population = np.random.randn(1000000)"
   ]
  },
  {
   "cell_type": "code",
   "execution_count": 5,
   "metadata": {},
   "outputs": [
    {
     "data": {
      "text/plain": [
       "array([ 0.16917185, -0.12150516,  1.15662527, ...,  0.23700925,\n",
       "       -0.12582283,  1.78174855])"
      ]
     },
     "execution_count": 5,
     "metadata": {},
     "output_type": "execute_result"
    }
   ],
   "source": [
    "population"
   ]
  },
  {
   "cell_type": "markdown",
   "metadata": {},
   "source": [
    "What's the population's mean and standard deviation?\n"
   ]
  },
  {
   "cell_type": "code",
   "execution_count": 6,
   "metadata": {},
   "outputs": [
    {
     "name": "stdout",
     "output_type": "stream",
     "text": [
      "The mean value is -0.00024325316470930495 and the standard deviation is 1.0013010726195146\n"
     ]
    }
   ],
   "source": [
    "mean_value = population.mean()\n",
    "std = population.std()\n",
    "print(f\"The mean value is {mean_value} and the standard deviation is {std}\")"
   ]
  },
  {
   "cell_type": "markdown",
   "metadata": {},
   "source": [
    "What does the distribution of the population look like?\n"
   ]
  },
  {
   "cell_type": "code",
   "execution_count": 7,
   "metadata": {},
   "outputs": [
    {
     "data": {
      "text/plain": [
       "<seaborn.axisgrid.FacetGrid at 0x2515de0c5e0>"
      ]
     },
     "execution_count": 7,
     "metadata": {},
     "output_type": "execute_result"
    },
    {
     "data": {
      "image/png": "[encoded data removed]",
      "text/plain": [
       "<Figure size 500x500 with 1 Axes>"
      ]
     },
     "metadata": {},
     "output_type": "display_data"
    }
   ],
   "source": [
    "sns.displot(population)"
   ]
  },
  {
   "cell_type": "markdown",
   "metadata": {},
   "source": [
    "If this were the real world, sampling 1,000,000 people would be difficult. Let's say that our budget allowed us to sample only 100 people at a time. How can we simulate that?"
   ]
  },
  {
   "cell_type": "code",
   "execution_count": 8,
   "metadata": {},
   "outputs": [],
   "source": [
    "sample_size = 100\n",
    "sample_100 = np.random.choice(population, sample_size)"
   ]
  },
  {
   "cell_type": "markdown",
   "metadata": {},
   "source": [
    "What's the sample's mean and standard deviation?\n"
   ]
  },
  {
   "cell_type": "code",
   "execution_count": 13,
   "metadata": {},
   "outputs": [
    {
     "name": "stdout",
     "output_type": "stream",
     "text": [
      "The mean value is 0.05503209488251656\n",
      "The standard deviation is 1.0052533524475757\n"
     ]
    }
   ],
   "source": [
    "mean_100 = sample_100.mean()\n",
    "std_100 = sample_100.std()\n",
    "print(f\"The mean value is {mean_100}\\nThe standard deviation is {std_100}\")"
   ]
  },
  {
   "cell_type": "markdown",
   "metadata": {},
   "source": [
    "Notice that our sample's mean value is pretty different from that of the population. What if we take a bigger sample size?"
   ]
  },
  {
   "cell_type": "code",
   "execution_count": 14,
   "metadata": {},
   "outputs": [
    {
     "name": "stdout",
     "output_type": "stream",
     "text": [
      "The mean value is -0.010130216950937946\n",
      "The standard deviation is 1.0063538199761677\n"
     ]
    }
   ],
   "source": [
    "sample_size = 1000\n",
    "sample_1000 = np.random.choice(population, sample_size)\n",
    "mean_1000 = sample_1000.mean()\n",
    "std_1000 = sample_1000.std()\n",
    "print(f\"The mean value is {mean_1000}\\nThe standard deviation is {std_1000}\")"
   ]
  },
  {
   "cell_type": "markdown",
   "metadata": {},
   "source": [
    "Or smaller..."
   ]
  },
  {
   "cell_type": "code",
   "execution_count": 15,
   "metadata": {},
   "outputs": [
    {
     "name": "stdout",
     "output_type": "stream",
     "text": [
      "The mean value is -0.16363943907706252\n",
      "The standard deviation is 0.8655058149956234\n"
     ]
    }
   ],
   "source": [
    "sample_size = 5\n",
    "sample_5 = np.random.choice(population, sample_size)\n",
    "mean_5 = sample_5.mean()\n",
    "std_5 = sample_5.std()\n",
    "print(f\"The mean value is {mean_5}\\nThe standard deviation is {std_5}\")"
   ]
  },
  {
   "cell_type": "markdown",
   "metadata": {},
   "source": [
    "The standard error of the mean (SEM) measures the precision of the estimate of the sample mean. We can use the formula:  \n",
    "  \n",
    "$\\text{SEM} = \\frac{\\sigma}{\\sqrt{n}}$\n",
    "\n",
    "* $\\sigma$ = the standard deviation of the sample\n",
    "* $n$ = the sample size\n",
    "\n",
    "Now we can compare our standard errors using the different sample sizes.\n"
   ]
  },
  {
   "cell_type": "code",
   "execution_count": 16,
   "metadata": {},
   "outputs": [
    {
     "name": "stdout",
     "output_type": "stream",
     "text": [
      "The SEM when the sample size was 5 was 0.38706596745031413\n",
      "The SEM when the sample size was 100 was 0.10052533524475757\n",
      "The SEM when the sample size was 1000 was 0.03182370203135746\n"
     ]
    }
   ],
   "source": [
    "se_5 = std_5/np.sqrt(5)\n",
    "se_100 = std_100/np.sqrt(100)\n",
    "se_1000 = std_1000/np.sqrt(1000)\n",
    "\n",
    "print(f\"The SEM when the sample size was 5 was {se_5}\")\n",
    "print(f\"The SEM when the sample size was 100 was {se_100}\")\n",
    "print(f\"The SEM when the sample size was 1000 was {se_1000}\")"
   ]
  },
  {
   "cell_type": "markdown",
   "metadata": {},
   "source": [
    "# Bootstrapping\n",
    "\n",
    "Bootstrapping is a statistical method that involves repeatedly resampling a dataset with replacement to estimate the distribution of a statistic. This technique allows for the assessment of the accuracy and variability of sample estimates, such as the mean or standard deviation, without making strict assumptions about the underlying population distribution. By generating many resampled datasets (called bootstrap samples) and calculating the statistic of interest for each sample, bootstrapping provides an empirical approximation of the sampling distribution. This method is particularly useful when dealing with small samples or when traditional parametric assumptions cannot be applied."
   ]
  },
  {
   "cell_type": "markdown",
   "metadata": {},
   "source": [
    "Let's create a numpy array to represent heights of females at the Faculta\n"
   ]
  },
  {
   "cell_type": "code",
   "execution_count": 19,
   "metadata": {},
   "outputs": [
    {
     "name": "stdout",
     "output_type": "stream",
     "text": [
      "The population's mean value is 162.30632630702277\n",
      "The standard deviation is 5.382994142610448\n"
     ]
    }
   ],
   "source": [
    "np.random.seed(42)\n",
    "mean = 162.2\n",
    "std = 5.5\n",
    "sample_size = 1000\n",
    "heights = np.random.normal(loc=mean, \n",
    "                           scale=std, \n",
    "                           size=sample_size)\n",
    "\n",
    "# sample mean\n",
    "mean_value = heights.mean()\n",
    "\n",
    "# population standard deviation\n",
    "std = heights.std()\n",
    "\n",
    "print(f\"The population's mean value is {mean_value}\\nThe standard deviation is {std}\")\n"
   ]
  },
  {
   "cell_type": "markdown",
   "metadata": {},
   "source": [
    "Now we can construct a simulated sampling distribution"
   ]
  },
  {
   "cell_type": "code",
   "execution_count": 28,
   "metadata": {},
   "outputs": [],
   "source": [
    "boot_straps = 5000\n",
    "sample_size\n",
    "sample_means = np.zeros(boot_straps)\n",
    "for ii in range(boot_straps):\n",
    "    sample = np.random.choice(heights, \n",
    "                              size=sample_size,\n",
    "                              replace=True)\n",
    "    sample_means[ii]= sample.mean()"
   ]
  },
  {
   "cell_type": "code",
   "execution_count": 29,
   "metadata": {},
   "outputs": [
    {
     "name": "stdout",
     "output_type": "stream",
     "text": [
      "The standard error of the mean calculated using bootstrapping is: 0.172134\n"
     ]
    }
   ],
   "source": [
    "# now we can find the standard deviation of the means\n",
    "se_mean_height_bootstrap = sample_means.std()\n",
    "print(f\"The standard error of the mean calculated using bootstrapping is: {se_mean_height_bootstrap:.6f}\")"
   ]
  },
  {
   "cell_type": "markdown",
   "metadata": {},
   "source": [
    "Reminder, for the mean, it is also possible to estimate the Standard Error (SE) of the mean by dividing the standard deviation (STD) of the values by the square root of the sample size. The formula for the Standard Error of the Mean (SEM) is:\n",
    "\n",
    "$\\text{SEM} = \\frac{\\sigma}{\\sqrt{n}}$\n",
    "\n",
    "where $\\sigma$ is the standard deviation of the sample, and $n$ is the sample size.\n",
    "\n",
    "For other statistics, such as the median, there is no such analytical formula. The utility of the bootstrap method lies in its ability to estimate the SE of these other statistics. By repeatedly resampling the data with replacement and calculating the statistic of interest for each resample, bootstrapping provides an empirical distribution of the statistic. From this distribution, we can estimate the SE and other measures of variability."
   ]
  },
  {
   "cell_type": "code",
   "execution_count": 22,
   "metadata": {},
   "outputs": [
    {
     "name": "stdout",
     "output_type": "stream",
     "text": [
      "The standard error of the mean calculated using the analytical formula is: 0.170\n"
     ]
    }
   ],
   "source": [
    "se_mean_height_analytical = heights.std()/np.sqrt(sample_size)\n",
    "print(f\"The standard error of the mean calculated using the analytical formula is: {se_mean_height_analytical:.3f}\")"
   ]
  },
  {
   "cell_type": "markdown",
   "metadata": {},
   "source": [
    "## Confidence Intervals\n",
    "\n",
    "We can also compute the confidence interval for our estimate of the mean. Let's say we want the 90 percent confidence interval.\n"
   ]
  },
  {
   "cell_type": "code",
   "execution_count": 30,
   "metadata": {},
   "outputs": [],
   "source": [
    "conf_level = 0.9\n",
    "low_bound = (1-conf_level)/2\n",
    "up_bound = (1+conf_level)/2\n",
    "CI = (np.quantile(sample_means, low_bound),\n",
    "      np.quantile(sample_means, up_bound)) "
   ]
  },
  {
   "cell_type": "code",
   "execution_count": 31,
   "metadata": {},
   "outputs": [
    {
     "name": "stdout",
     "output_type": "stream",
     "text": [
      "The lower bound of the confidence interval is: 162.02571235883332\n",
      "The upper bound of the confidence interval is: 162.59195775885198\n"
     ]
    }
   ],
   "source": [
    "print(f\"The lower bound of the confidence interval is: {CI[0]}\")\n",
    "print(f\"The upper bound of the confidence interval is: {CI[1]}\")"
   ]
  },
  {
   "cell_type": "markdown",
   "metadata": {},
   "source": [
    "## Can you bootsrap confidence interval for the median?"
   ]
  },
  {
   "cell_type": "code",
   "execution_count": 33,
   "metadata": {},
   "outputs": [
    {
     "name": "stdout",
     "output_type": "stream",
     "text": [
      "The lower bound of the confidence interval is: 161.98244665378837\n",
      "The upper bound of the confidence interval is: 162.62144039661362\n"
     ]
    }
   ],
   "source": [
    "#| code-fold: true\n",
    "#| code-summary: \"Answer\"\n",
    "\n",
    "# make a bootstrapped population of the median\n",
    "boot_straps = 500\n",
    "sample_size\n",
    "sample_medians = np.zeros(boot_straps)\n",
    "for ii in range(boot_straps):\n",
    "    sample = np.random.choice(heights, \n",
    "                              size=sample_size,\n",
    "                              replace=True)\n",
    "    sample_medians[ii]= np.median(sample)\n",
    "\n",
    "# compute CI for the bootstrapped population of the median\n",
    "conf_level = 0.9\n",
    "low_bound = (1-conf_level)/2\n",
    "up_bound = (1+conf_level)/2\n",
    "CI = (np.quantile(sample_medians, low_bound),\n",
    "      np.quantile(sample_medians, up_bound)) \n",
    "\n",
    "# # uncomment below:\n",
    "print(f\"The lower bound of the confidence interval is: {CI[0]}\")\n",
    "print(f\"The upper bound of the confidence interval is: {CI[1]}\")"
   ]
  }
 ],
 "metadata": {
  "kernelspec": {
   "display_name": "Python 3 (ipykernel)",
   "language": "python",
   "name": "python3"
  },
  "language_info": {
   "codemirror_mode": {
    "name": "ipython",
    "version": 3
   },
   "file_extension": ".py",
   "mimetype": "text/x-python",
   "name": "python",
   "nbconvert_exporter": "python",
   "pygments_lexer": "ipython3",
   "version": "3.12.4"
  }
 },
 "nbformat": 4,
 "nbformat_minor": 4
}
