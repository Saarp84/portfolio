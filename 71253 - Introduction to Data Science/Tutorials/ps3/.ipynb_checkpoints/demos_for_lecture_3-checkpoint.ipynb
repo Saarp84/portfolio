{
 "cells": [
  {
   "cell_type": "code",
   "execution_count": 1,
   "metadata": {},
   "outputs": [
    {
     "name": "stdout",
     "output_type": "stream",
     "text": [
      "Populating the interactive namespace from numpy and matplotlib\n"
     ]
    }
   ],
   "source": [
    "%pylab inline \n",
    "import pandas as pd\n",
    "import seaborn as sns\n",
    "sns.set(style='ticks', font_scale=2)"
   ]
  },
  {
   "cell_type": "code",
   "execution_count": 2,
   "metadata": {},
   "outputs": [],
   "source": [
    "import scipy.stats as stats\n",
    "from ipywidgets import interact, interactive, fixed"
   ]
  },
  {
   "cell_type": "markdown",
   "metadata": {},
   "source": [
    "# Distribution parameters demo"
   ]
  },
  {
   "cell_type": "code",
   "execution_count": 32,
   "metadata": {},
   "outputs": [
    {
     "data": {
      "application/vnd.jupyter.widget-view+json": {
       "model_id": "2cf6667ce239442581a2bcf88320d700",
       "version_major": 2,
       "version_minor": 0
      },
      "text/plain": [
       "interactive(children=(IntSlider(value=0, description='location', max=5, min=-5), FloatSlider(value=1.05, descr…"
      ]
     },
     "metadata": {},
     "output_type": "display_data"
    }
   ],
   "source": [
    "import scipy.stats as stats\n",
    "\n",
    "\n",
    "n = 10\n",
    "xs = stats.norm().rvs(n)\n",
    "\n",
    "@interact(location=(-5,5), scale=(0.1,2, 0.05), adjust_axis=False)\n",
    "def plot_dist(location, scale, adjust_axis):\n",
    "    dist = stats.norm(location,scale)\n",
    "    x = linspace(-10,10, 1000)\n",
    "    p = dist.pdf(x)\n",
    "\n",
    "    fig, ax = subplots(figsize=(8,4))\n",
    "    ax.plot(x,p, lw=3)\n",
    "    ax.set_xlabel('x')\n",
    "    ax.set_ylabel('pdf')\n",
    "    \n",
    "    if adjust_axis:\n",
    "        ax.set_ylim(0)\n",
    "        ax.set_xlim(location-10*scale, location+10*scale)\n",
    "    else:\n",
    "        ax.set_ylim(0, 1.5)\n",
    "        ax.set_xlim(-10, 10)\n",
    "    \n",
    "    xs_scaled = (xs)*scale +location\n",
    "    ax.plot(xs_scaled, 0*xs, 'ro', ms=15)"
   ]
  },
  {
   "cell_type": "markdown",
   "metadata": {},
   "source": [
    "## Rotation demo"
   ]
  },
  {
   "cell_type": "code",
   "execution_count": 17,
   "metadata": {},
   "outputs": [],
   "source": [
    "import scipy.stats as sts"
   ]
  },
  {
   "cell_type": "code",
   "execution_count": 28,
   "metadata": {},
   "outputs": [],
   "source": [
    "n = 20\n",
    "x = sts.norm.rvs(size=n)\n",
    "a = 1\n",
    "y = a*x + sts.norm(scale=.25).rvs(n)\n",
    "\n",
    "X = c_[x,y]"
   ]
  },
  {
   "cell_type": "code",
   "execution_count": 29,
   "metadata": {},
   "outputs": [],
   "source": [
    "def get_percent_var(X):\n",
    "    v = X.var(axis=0)\n",
    "    return v/v.sum()\n",
    "\n",
    "from scipy.spatial.distance import pdist, squareform"
   ]
  },
  {
   "cell_type": "code",
   "execution_count": 31,
   "metadata": {},
   "outputs": [
    {
     "data": {
      "application/vnd.jupyter.widget-view+json": {
       "model_id": "de479bbe21d14ba7be429bea43e35e56",
       "version_major": 2,
       "version_minor": 0
      },
      "text/plain": [
       "interactive(children=(IntSlider(value=0, description='theta', max=90, min=-90, step=5), Checkbox(value=False, …"
      ]
     },
     "metadata": {},
     "output_type": "display_data"
    }
   ],
   "source": [
    "c1 = 'black'\n",
    "c2 = 'blue'\n",
    "\n",
    "## add scaling\n",
    "\n",
    "@interact(theta=(-90,90,5), rotate_axis=False, project_on_x=False, scale=(1,3,0.5))\n",
    "def plot_rot(theta, rotate_axis, project_on_x, scale):\n",
    "    theta *= pi/180\n",
    "    r = array([[cos(theta), -sin(theta)],\n",
    "            [sin(theta), cos(theta)]])\n",
    "    \n",
    "    X_scaled = X.copy()\n",
    "    X_scaled[:,0] *= scale\n",
    "    \n",
    "    X_rot = r.dot(X_scaled.T).T\n",
    "    v_rot = get_percent_var(X_rot)\n",
    "    \n",
    "    fig, axs = subplots(1,2, figsize=(12,6))\n",
    "    \n",
    "    ax = axs[0]\n",
    "    ax.plot(X_scaled[:,0], X_scaled[:,1], 'o', color=c1)\n",
    "\n",
    "    if rotate_axis:\n",
    "    \n",
    "        X_axis = array([[2,0],\n",
    "                        [0,2]])\n",
    "        \n",
    "        theta_ax = -theta \n",
    "        r_ax = array([[cos(theta_ax), -sin(theta_ax)],\n",
    "                [sin(theta_ax), cos(theta_ax)]])\n",
    "        X_axis_rot = r_ax.dot(X_axis.T).T\n",
    "        # ax.plot()\n",
    "        w = 0.05\n",
    "        c = 'gray'\n",
    "        ax.arrow(0,0, X_axis_rot[0,0], X_axis_rot[0,1], width=w, color=c)\n",
    "        ax.arrow(0,0, X_axis_rot[1,0], X_axis_rot[1,1], width=w, color=c)\n",
    "        ax.text(X_axis_rot[0,0], X_axis_rot[0,1], '{:.0f}%'.format(100*v_rot[0]), \n",
    "                ha='left', va='bottom')\n",
    "        ax.text(X_axis_rot[1,0], X_axis_rot[1,1], '{:.0f}%'.format(100*v_rot[1]), \n",
    "                ha='center', va='bottom')\n",
    "    \n",
    "    \n",
    "    else:\n",
    "        ax.plot(X_rot[:,0], X_rot[:,1], 'o', c=c2)\n",
    "        \n",
    "\n",
    "        ax.text(2, 0, '{:.0f}%'.format(100*v_rot[0]), \n",
    "                ha='left', va='bottom')\n",
    "        ax.text(0,2 , '{:.0f}%'.format(100*v_rot[1]), \n",
    "                ha='center', va='bottom')\n",
    "        \n",
    "        \n",
    "        if project_on_x:\n",
    "            y = X_rot.copy()\n",
    "            y[:,1] = 0\n",
    "            ax.plot(y[:,0], y[:,1], 'kx', ms=10)\n",
    "            for i in range(n):\n",
    "                ax.plot([X_rot[i,0]]*2, [X_rot[i,1], 0], '-', color='gray')\n",
    "        \n",
    "    ax.spines['left'].set_position('center')\n",
    "    ax.spines['bottom'].set_position('center')\n",
    "    # ax.spines['left'].set_visible(False)\n",
    "    # ax.spines['bottom'].set_visible(False)\n",
    "\n",
    "    ax.spines['top'].set_visible(False)\n",
    "    ax.spines['right'].set_visible(False)\n",
    "    ax.set_xticks([])\n",
    "    ax.set_yticks([])\n",
    "    \n",
    "    lm = 5\n",
    "    ax.set_xlim(-lm, lm)\n",
    "    ax.set_ylim(-lm, lm)\n",
    "    \n",
    "    \n",
    "    ###### plot distances dist\n",
    "    i = 1 if rotate_axis else 0\n",
    "    i = 0\n",
    "    d_1D = pdist(X_rot[:,[i]]) \n",
    "    d_2D = pdist(X_scaled)\n",
    "    \n",
    "    ax = axs[1]\n",
    "    ax.plot([0,4], [0,4], c='gray')\n",
    "    ax.plot(d_2D, d_1D, 'o')\n",
    "    ax.set_xlabel('pairwise distances (x,y)')\n",
    "    ax.set_ylabel('pairwise distances x-only')\n",
    "    ax.set_xlim(0,4)\n",
    "    ax.set_ylim(0,4)\n",
    "    ax.set_xticks([])\n",
    "    ax.set_yticks([])\n",
    "    \n",
    "    # bns=15\n",
    "    # ax.hist(d_2D, alpha=0.5, bins=bns)\n",
    "    # ax.hist(d_1D, alpha=0.5, bins=bns)\n",
    "    \n",
    "    \n",
    "    \n",
    "    tight_layout()"
   ]
  },
  {
   "cell_type": "markdown",
   "metadata": {},
   "source": [
    "## PCA - wine data"
   ]
  },
  {
   "cell_type": "code",
   "execution_count": 8,
   "metadata": {},
   "outputs": [],
   "source": [
    "from sklearn.decomposition import PCA\n"
   ]
  },
  {
   "cell_type": "code",
   "execution_count": 9,
   "metadata": {},
   "outputs": [],
   "source": [
    "all_data = pd.read_csv('../lecture_2/wine.data.csv')\n",
    "data = all_data.iloc[:,1:]"
   ]
  },
  {
   "cell_type": "code",
   "execution_count": 10,
   "metadata": {},
   "outputs": [],
   "source": [
    "z = data.apply(lambda x:(x-x.mean())/x.std(), axis=0)"
   ]
  },
  {
   "cell_type": "code",
   "execution_count": 11,
   "metadata": {},
   "outputs": [],
   "source": [
    "cultivar = all_data.Class"
   ]
  },
  {
   "cell_type": "code",
   "execution_count": 12,
   "metadata": {},
   "outputs": [
    {
     "data": {
      "application/vnd.jupyter.widget-view+json": {
       "model_id": "5696280d809645c1951bb1159ade26d9",
       "version_major": 2,
       "version_minor": 0
      },
      "text/plain": [
       "interactive(children=(Checkbox(value=False, description='normalize'), Dropdown(description='color', options=('…"
      ]
     },
     "metadata": {},
     "output_type": "display_data"
    }
   ],
   "source": [
    "@interact(normalize=False, color=['none', 'cultivar'], loadings=False, n_loadings=(2,8,1))\n",
    "def plot_wine_PCA(normalize, color, loadings, n_loadings):\n",
    "    X = z if normalize else data\n",
    "    pca = PCA(n_components=2).fit(X)\n",
    "    X_trans = pca.transform(X)\n",
    "    \n",
    "    if color=='none':\n",
    "        colors = None\n",
    "    elif color=='cultivar':\n",
    "        colors = cultivar\n",
    "    fig, ax = subplots(figsize=(12,8))\n",
    "    sns.scatterplot(x=X_trans[:,0], y=X_trans[:,1], hue=colors, palette='deep')\n",
    "    \n",
    "    xlabel ('PC1 ({:.2f}%)'.format(100*pca.explained_variance_ratio_[0]))\n",
    "    ylabel ('PC2 ({:.2f}%)'.format(100*pca.explained_variance_ratio_[1]))\n",
    "    \n",
    "    if loadings:\n",
    "        feature_loading_size_sorted = argsort(abs(pca.components_).sum(axis=0))[::-1]\n",
    "        scale = 1/X_trans.max(axis=0)-X_trans.min(axis=0)\n",
    "        for j in range(n_loadings):\n",
    "            i = feature_loading_size_sorted[j]\n",
    "            plt.arrow(0, 0, pca.components_[0,i]*scale[0], pca.components_[1,i]*scale[1]\n",
    "                      ,color = 'r',alpha = 0.5)\n",
    "            plt.text(pca.components_[0,i]*scale[0], pca.components_[1,i]*scale[1], \n",
    "                     data.columns[i], color = 'k', ha = 'center', va = 'center', size=16)"
   ]
  },
  {
   "cell_type": "code",
   "execution_count": null,
   "metadata": {},
   "outputs": [],
   "source": []
  },
  {
   "cell_type": "code",
   "execution_count": null,
   "metadata": {},
   "outputs": [],
   "source": []
  },
  {
   "cell_type": "code",
   "execution_count": null,
   "metadata": {},
   "outputs": [],
   "source": []
  }
 ],
 "metadata": {
  "kernelspec": {
   "display_name": "Python 3 (ipykernel)",
   "language": "python",
   "name": "python3"
  },
  "language_info": {
   "codemirror_mode": {
    "name": "ipython",
    "version": 3
   },
   "file_extension": ".py",
   "mimetype": "text/x-python",
   "name": "python",
   "nbconvert_exporter": "python",
   "pygments_lexer": "ipython3",
   "version": "3.10.9"
  }
 },
 "nbformat": 4,
 "nbformat_minor": 4
}
