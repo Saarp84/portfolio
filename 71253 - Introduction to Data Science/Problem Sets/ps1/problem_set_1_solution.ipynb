{
 "cells": [
  {
   "cell_type": "markdown",
   "metadata": {
    "id": "ROcR1MUMM8pE"
   },
   "source": [
    "# Intro to Data Sciecne (71253) - Problem Set 1"
   ]
  },
  {
   "cell_type": "markdown",
   "metadata": {
    "id": "4Tte5xWQM8pI"
   },
   "source": [
    "## Instructions"
   ]
  },
  {
   "cell_type": "markdown",
   "metadata": {
    "id": "O-AUxYdeM8pI"
   },
   "source": [
    "Complete the tasks and answer each of the questions below using both text and code cells, as needed.    \n",
    "Your code needs to be able to excute properly.   \n",
    "Make sure to include complete answers. This can be done either using a text cell, or by formating and printing a string (using the 'format' and 'print' functions). See example below.  \n",
    "  \n",
    "Do **not** just dump the value of a variable onto the screen. "
   ]
  },
  {
   "cell_type": "markdown",
   "metadata": {
    "id": "TJb41CjaM8pJ"
   },
   "source": [
    "### Example of desired output format"
   ]
  },
  {
   "cell_type": "markdown",
   "metadata": {
    "id": "G-0pZJilM8pJ"
   },
   "source": [
    "As an example, let's consider the question:  \n",
    "> \"How excited are you about data science from 1-10\"  \n",
    "\n",
    "and the (obvious) answer:\n",
    "\n",
    ">10\n",
    "\n",
    "The perfered answer formats is:"
   ]
  },
  {
   "cell_type": "code",
   "execution_count": 1,
   "metadata": {
    "id": "IQ-T0voEM8pK",
    "outputId": "b3863959-4d0d-44ac-9078-d2d79739db4f"
   },
   "outputs": [
    {
     "name": "stdout",
     "output_type": "stream",
     "text": [
      "My level of excitment about data science is 10!\n"
     ]
    }
   ],
   "source": [
    "excitment = 10\n",
    "print(\"My level of excitment about data science is {ex:0}!\".format(ex=excitment))"
   ]
  },
  {
   "cell_type": "markdown",
   "metadata": {
    "id": "x1fSn9pQM8pL"
   },
   "source": [
    "  "
   ]
  },
  {
   "cell_type": "markdown",
   "metadata": {
    "id": "cL1GcZ9HM8pM"
   },
   "source": [
    "  \n",
    "  Altenrtively, you can hard-code the answer in a text cell:   "
   ]
  },
  {
   "cell_type": "markdown",
   "metadata": {
    "id": "jKHPrVCKM8pM"
   },
   "source": [
    "My level of excitment about data science is 10!"
   ]
  },
  {
   "cell_type": "markdown",
   "metadata": {
    "id": "k8IgrYV3M8pN"
   },
   "source": [
    "    \n",
    "      \n",
    "      "
   ]
  },
  {
   "cell_type": "markdown",
   "metadata": {
    "id": "a7Jq4LKtM8pN"
   },
   "source": [
    "This format is advised only for answers that do not contain the outputs of any code since it is prone to errors - if the code/output changes, the hard-coded text does not."
   ]
  },
  {
   "cell_type": "markdown",
   "metadata": {
    "id": "Di7gCDpXM8pO"
   },
   "source": [
    "### Example of unacceptable output format"
   ]
  },
  {
   "cell_type": "markdown",
   "metadata": {
    "id": "m0p2kiEoM8pO"
   },
   "source": [
    "An unacceptable format is dump the value of a variable onto the screen. For example:"
   ]
  },
  {
   "cell_type": "code",
   "execution_count": 2,
   "metadata": {
    "id": "9MqoPYEmM8pO",
    "outputId": "b36b0e32-ba3d-4339-ab74-9c8b2bc3dfcc"
   },
   "outputs": [
    {
     "data": {
      "text/plain": [
       "10"
      ]
     },
     "execution_count": 2,
     "metadata": {},
     "output_type": "execute_result"
    }
   ],
   "source": [
    "excitment = 10\n",
    "excitment"
   ]
  },
  {
   "cell_type": "markdown",
   "metadata": {
    "id": "SApp8ju_M8pP"
   },
   "source": [
    "***"
   ]
  },
  {
   "cell_type": "markdown",
   "metadata": {
    "id": "EvHKb3E7M8pP"
   },
   "source": [
    "## 1. Imports and parsing"
   ]
  },
  {
   "cell_type": "code",
   "execution_count": 3,
   "metadata": {
    "id": "0wkjqlvBM8pP"
   },
   "outputs": [],
   "source": [
    "## Import the equired libraries for the pset here.\n",
    "## It is a good habit to start with the imports you'll need in a separare code block.\n",
    "import pandas as pd"
   ]
  },
  {
   "cell_type": "code",
   "execution_count": 4,
   "metadata": {
    "id": "v4HvtG1DM8pQ"
   },
   "outputs": [
    {
     "data": {
      "text/html": [
       "<div>\n",
       "<style scoped>\n",
       "    .dataframe tbody tr th:only-of-type {\n",
       "        vertical-align: middle;\n",
       "    }\n",
       "\n",
       "    .dataframe tbody tr th {\n",
       "        vertical-align: top;\n",
       "    }\n",
       "\n",
       "    .dataframe thead th {\n",
       "        text-align: right;\n",
       "    }\n",
       "</style>\n",
       "<table border=\"1\" class=\"dataframe\">\n",
       "  <thead>\n",
       "    <tr style=\"text-align: right;\">\n",
       "      <th></th>\n",
       "      <th>age</th>\n",
       "      <th>status</th>\n",
       "      <th>sex</th>\n",
       "      <th>orientation</th>\n",
       "      <th>body_type</th>\n",
       "      <th>diet</th>\n",
       "      <th>drinks</th>\n",
       "      <th>drugs</th>\n",
       "      <th>education</th>\n",
       "      <th>ethnicity</th>\n",
       "      <th>...</th>\n",
       "      <th>income</th>\n",
       "      <th>job</th>\n",
       "      <th>last_online</th>\n",
       "      <th>location</th>\n",
       "      <th>offspring</th>\n",
       "      <th>pets</th>\n",
       "      <th>religion</th>\n",
       "      <th>sign</th>\n",
       "      <th>smokes</th>\n",
       "      <th>speaks</th>\n",
       "    </tr>\n",
       "  </thead>\n",
       "  <tbody>\n",
       "    <tr>\n",
       "      <th>0</th>\n",
       "      <td>22</td>\n",
       "      <td>single</td>\n",
       "      <td>m</td>\n",
       "      <td>straight</td>\n",
       "      <td>a little extra</td>\n",
       "      <td>strictly anything</td>\n",
       "      <td>socially</td>\n",
       "      <td>never</td>\n",
       "      <td>working on college/university</td>\n",
       "      <td>asian, white</td>\n",
       "      <td>...</td>\n",
       "      <td>-1</td>\n",
       "      <td>transportation</td>\n",
       "      <td>2012-06-28-20-30</td>\n",
       "      <td>south san francisco, california</td>\n",
       "      <td>doesn't have kids, but might want them</td>\n",
       "      <td>likes dogs and likes cats</td>\n",
       "      <td>agnosticism and very serious about it</td>\n",
       "      <td>gemini</td>\n",
       "      <td>sometimes</td>\n",
       "      <td>english</td>\n",
       "    </tr>\n",
       "    <tr>\n",
       "      <th>1</th>\n",
       "      <td>35</td>\n",
       "      <td>single</td>\n",
       "      <td>m</td>\n",
       "      <td>straight</td>\n",
       "      <td>average</td>\n",
       "      <td>mostly other</td>\n",
       "      <td>often</td>\n",
       "      <td>sometimes</td>\n",
       "      <td>working on space camp</td>\n",
       "      <td>white</td>\n",
       "      <td>...</td>\n",
       "      <td>80000</td>\n",
       "      <td>hospitality / travel</td>\n",
       "      <td>2012-06-29-21-41</td>\n",
       "      <td>oakland, california</td>\n",
       "      <td>doesn't have kids, but might want them</td>\n",
       "      <td>likes dogs and likes cats</td>\n",
       "      <td>agnosticism but not too serious about it</td>\n",
       "      <td>cancer</td>\n",
       "      <td>no</td>\n",
       "      <td>english (fluently), spanish (poorly), french (...</td>\n",
       "    </tr>\n",
       "    <tr>\n",
       "      <th>2</th>\n",
       "      <td>38</td>\n",
       "      <td>available</td>\n",
       "      <td>m</td>\n",
       "      <td>straight</td>\n",
       "      <td>thin</td>\n",
       "      <td>anything</td>\n",
       "      <td>socially</td>\n",
       "      <td>NaN</td>\n",
       "      <td>graduated from masters program</td>\n",
       "      <td>NaN</td>\n",
       "      <td>...</td>\n",
       "      <td>-1</td>\n",
       "      <td>NaN</td>\n",
       "      <td>2012-06-27-09-10</td>\n",
       "      <td>san francisco, california</td>\n",
       "      <td>NaN</td>\n",
       "      <td>has cats</td>\n",
       "      <td>NaN</td>\n",
       "      <td>pisces but it doesn&amp;rsquo;t matter</td>\n",
       "      <td>no</td>\n",
       "      <td>english, french, c++</td>\n",
       "    </tr>\n",
       "    <tr>\n",
       "      <th>3</th>\n",
       "      <td>23</td>\n",
       "      <td>single</td>\n",
       "      <td>m</td>\n",
       "      <td>straight</td>\n",
       "      <td>thin</td>\n",
       "      <td>vegetarian</td>\n",
       "      <td>socially</td>\n",
       "      <td>NaN</td>\n",
       "      <td>working on college/university</td>\n",
       "      <td>white</td>\n",
       "      <td>...</td>\n",
       "      <td>20000</td>\n",
       "      <td>student</td>\n",
       "      <td>2012-06-28-14-22</td>\n",
       "      <td>berkeley, california</td>\n",
       "      <td>doesn't want kids</td>\n",
       "      <td>likes cats</td>\n",
       "      <td>NaN</td>\n",
       "      <td>pisces</td>\n",
       "      <td>no</td>\n",
       "      <td>english, german (poorly)</td>\n",
       "    </tr>\n",
       "    <tr>\n",
       "      <th>4</th>\n",
       "      <td>29</td>\n",
       "      <td>single</td>\n",
       "      <td>m</td>\n",
       "      <td>straight</td>\n",
       "      <td>athletic</td>\n",
       "      <td>NaN</td>\n",
       "      <td>socially</td>\n",
       "      <td>never</td>\n",
       "      <td>graduated from college/university</td>\n",
       "      <td>asian, black, other</td>\n",
       "      <td>...</td>\n",
       "      <td>-1</td>\n",
       "      <td>artistic / musical / writer</td>\n",
       "      <td>2012-06-27-21-26</td>\n",
       "      <td>san francisco, california</td>\n",
       "      <td>NaN</td>\n",
       "      <td>likes dogs and likes cats</td>\n",
       "      <td>NaN</td>\n",
       "      <td>aquarius</td>\n",
       "      <td>no</td>\n",
       "      <td>english</td>\n",
       "    </tr>\n",
       "  </tbody>\n",
       "</table>\n",
       "<p>5 rows × 21 columns</p>\n",
       "</div>"
      ],
      "text/plain": [
       "   age     status sex orientation       body_type               diet  \\\n",
       "0   22     single   m    straight  a little extra  strictly anything   \n",
       "1   35     single   m    straight         average       mostly other   \n",
       "2   38  available   m    straight            thin           anything   \n",
       "3   23     single   m    straight            thin         vegetarian   \n",
       "4   29     single   m    straight        athletic                NaN   \n",
       "\n",
       "     drinks      drugs                          education  \\\n",
       "0  socially      never      working on college/university   \n",
       "1     often  sometimes              working on space camp   \n",
       "2  socially        NaN     graduated from masters program   \n",
       "3  socially        NaN      working on college/university   \n",
       "4  socially      never  graduated from college/university   \n",
       "\n",
       "             ethnicity  ...  income                          job  \\\n",
       "0         asian, white  ...      -1               transportation   \n",
       "1                white  ...   80000         hospitality / travel   \n",
       "2                  NaN  ...      -1                          NaN   \n",
       "3                white  ...   20000                      student   \n",
       "4  asian, black, other  ...      -1  artistic / musical / writer   \n",
       "\n",
       "        last_online                         location  \\\n",
       "0  2012-06-28-20-30  south san francisco, california   \n",
       "1  2012-06-29-21-41              oakland, california   \n",
       "2  2012-06-27-09-10        san francisco, california   \n",
       "3  2012-06-28-14-22             berkeley, california   \n",
       "4  2012-06-27-21-26        san francisco, california   \n",
       "\n",
       "                                offspring                       pets  \\\n",
       "0  doesn't have kids, but might want them  likes dogs and likes cats   \n",
       "1  doesn't have kids, but might want them  likes dogs and likes cats   \n",
       "2                                     NaN                   has cats   \n",
       "3                       doesn't want kids                 likes cats   \n",
       "4                                     NaN  likes dogs and likes cats   \n",
       "\n",
       "                                   religion  \\\n",
       "0     agnosticism and very serious about it   \n",
       "1  agnosticism but not too serious about it   \n",
       "2                                       NaN   \n",
       "3                                       NaN   \n",
       "4                                       NaN   \n",
       "\n",
       "                                 sign     smokes  \\\n",
       "0                              gemini  sometimes   \n",
       "1                              cancer         no   \n",
       "2  pisces but it doesn&rsquo;t matter         no   \n",
       "3                              pisces         no   \n",
       "4                            aquarius         no   \n",
       "\n",
       "                                              speaks  \n",
       "0                                            english  \n",
       "1  english (fluently), spanish (poorly), french (...  \n",
       "2                               english, french, c++  \n",
       "3                           english, german (poorly)  \n",
       "4                                            english  \n",
       "\n",
       "[5 rows x 21 columns]"
      ]
     },
     "execution_count": 4,
     "metadata": {},
     "output_type": "execute_result"
    }
   ],
   "source": [
    "## read the data from the file \"okcupid_profiles_ps1.csv\" into a pandas dataframe.\n",
    "dfile = 'okcupid_profiles_ps1.csv'\n",
    "data = pd.read_csv(dfile)\n",
    "\n",
    "## drop the first column, since it is just a running index\n",
    "data.drop(columns=data.columns[0], inplace=True) \n",
    "\n",
    "data.head()"
   ]
  },
  {
   "cell_type": "markdown",
   "metadata": {
    "id": "GsOQu5yXM8pQ"
   },
   "source": [
    "*** "
   ]
  },
  {
   "cell_type": "markdown",
   "metadata": {
    "id": "SAmfPI8KM8pQ"
   },
   "source": [
    "## 2. Overall data structure"
   ]
  },
  {
   "cell_type": "markdown",
   "metadata": {
    "id": "N_zgbCrbM8pR"
   },
   "source": [
    "### 2.1 How many records does the data contain?"
   ]
  },
  {
   "cell_type": "code",
   "execution_count": 5,
   "metadata": {
    "id": "6otgT3lLM8pR",
    "outputId": "d99be3cf-3607-4c32-95fe-2354f5e0234a"
   },
   "outputs": [
    {
     "name": "stdout",
     "output_type": "stream",
     "text": [
      "There are 10000 records\n"
     ]
    }
   ],
   "source": [
    "print('There are {n} records'.format(n=data.shape[0]))"
   ]
  },
  {
   "cell_type": "markdown",
   "metadata": {
    "id": "Hz_PeMTvM8pR"
   },
   "source": [
    "### 2.2 How many variables does the data contain?"
   ]
  },
  {
   "cell_type": "code",
   "execution_count": 6,
   "metadata": {
    "id": "jBPWYq6xM8pR",
    "outputId": "ca5ee6d8-98c6-4818-e34d-7ebefa1b757d"
   },
   "outputs": [
    {
     "name": "stdout",
     "output_type": "stream",
     "text": [
      "There are 21 variables\n"
     ]
    }
   ],
   "source": [
    "print('There are {n} variables'.format(n=data.shape[1]))"
   ]
  },
  {
   "cell_type": "markdown",
   "metadata": {
    "id": "ylY6uPXlM8pS"
   },
   "source": [
    "### 2.3 What are the names of the first 5 variables?"
   ]
  },
  {
   "cell_type": "code",
   "execution_count": 7,
   "metadata": {
    "id": "Q4OhawXkM8pS",
    "outputId": "e2fb5a61-6d79-4cb4-e5df-cedc22a77297"
   },
   "outputs": [
    {
     "name": "stdout",
     "output_type": "stream",
     "text": [
      "The names of the first 5 variables are: age, status, sex, orientation, and body_type.\n"
     ]
    }
   ],
   "source": [
    "data.columns[:5]\n",
    "print('The names of the first 5 variables are: {0}, {1}, {2}, {3}, and {4}.'.format(*data.columns[:5]))"
   ]
  },
  {
   "cell_type": "markdown",
   "metadata": {
    "id": "KhmduzfVM8pS"
   },
   "source": [
    "***"
   ]
  },
  {
   "cell_type": "markdown",
   "metadata": {
    "id": "szxNqU5iM8pS"
   },
   "source": [
    "## 3. Variable types"
   ]
  },
  {
   "cell_type": "markdown",
   "metadata": {
    "id": "LhkkCf-9M8pS"
   },
   "source": [
    "### 3.1 What are the types of the variables 'age', 'status', 'education', 'body_type', and 'drinks'?  \n",
    "(e.g. Continous, Ordinal, etc')"
   ]
  },
  {
   "cell_type": "markdown",
   "metadata": {
    "id": "nmyCfiNKM8pT"
   },
   "source": [
    "- age: Discrete. In principle age can be continous, in partice it is report in discrete years here. \n",
    "- status: Nomial.\n",
    "- education: Ordinal.\n",
    "- body_type: Nominal\n",
    "- drinks: Ordinal"
   ]
  },
  {
   "cell_type": "markdown",
   "metadata": {
    "id": "7Hq9a6K4M8pT"
   },
   "source": [
    "### 3.2 Formulate 3 questions involving a single variable.  \n",
    "(e.g. How many vegeterians are there in the data?)"
   ]
  },
  {
   "cell_type": "markdown",
   "metadata": {
    "id": "cut6_eq2M8pT"
   },
   "source": [
    "What is the precentage of men in the data?  \n",
    "What is the average height?  \n",
    "How many different body_types are there in the data?  \n",
    "What is the maximal number of languages reported in the data?"
   ]
  },
  {
   "cell_type": "markdown",
   "metadata": {
    "id": "hJUT9FCcM8pT"
   },
   "source": [
    "### 3.3 Formulate 3 questions involving a pair of variables.\n",
    "(e.g. How many vegeterians men are there in the data?)"
   ]
  },
  {
   "cell_type": "markdown",
   "metadata": {
    "id": "nPHdzSXoM8pT"
   },
   "source": [
    "What is the averge height of men?  \n",
    "Do men and women have the same income?  \n",
    "Do people who smoke more tend to also drink more?  \n",
    "Does diet affect body type?\n"
   ]
  },
  {
   "cell_type": "markdown",
   "metadata": {
    "id": "qiWL8i0CM8pU"
   },
   "source": [
    "***"
   ]
  },
  {
   "cell_type": "markdown",
   "metadata": {
    "id": "HfCYFq-lM8pU"
   },
   "source": [
    "## 4. Analyzing body types"
   ]
  },
  {
   "cell_type": "markdown",
   "metadata": {
    "id": "qnLx3g3GM8pU"
   },
   "source": [
    "### 4.1 How many different values of the variable \"body_type\" are there?"
   ]
  },
  {
   "cell_type": "code",
   "execution_count": 8,
   "metadata": {
    "id": "ifWtnxLmM8pU",
    "outputId": "3930f804-0e53-4e06-90d4-57a6e88154b0"
   },
   "outputs": [
    {
     "name": "stdout",
     "output_type": "stream",
     "text": [
      "There are 13 different body types\n"
     ]
    }
   ],
   "source": [
    "btypes = data.body_type.unique()\n",
    "print('There are {n} different body types'.format(n=btypes.shape[0]))"
   ]
  },
  {
   "cell_type": "markdown",
   "metadata": {},
   "source": [
    "As we said, it's alway good to inspect things \"by hand\". So let's print out the different body types:"
   ]
  },
  {
   "cell_type": "code",
   "execution_count": 9,
   "metadata": {},
   "outputs": [
    {
     "name": "stdout",
     "output_type": "stream",
     "text": [
      "a little extra\n",
      "average\n",
      "thin\n",
      "athletic\n",
      "fit\n",
      "nan\n",
      "skinny\n",
      "curvy\n",
      "full figured\n",
      "jacked\n",
      "rather not say\n",
      "used up\n",
      "overweight\n"
     ]
    }
   ],
   "source": [
    "for btype in btypes:\n",
    "    print('{}'.format(btype))"
   ]
  },
  {
   "cell_type": "markdown",
   "metadata": {},
   "source": [
    "We can now see that there are two values that aren't really specific body types: \"nan\" and \"rather not say\".  \n",
    "Should we even count them as body types?  \n",
    "if we do, should we count them as seperate body types? or as a single thing that means \"unspecified\"?"
   ]
  },
  {
   "cell_type": "markdown",
   "metadata": {
    "id": "BEAf0S90M8pU"
   },
   "source": [
    "### 4.2 What percentage of people report that they have an \"average\", \"fit\", or \"athletic\" body type?  \n",
    "(sum all theree types)"
   ]
  },
  {
   "cell_type": "code",
   "execution_count": 10,
   "metadata": {
    "id": "MITpcbMjM8pV",
    "outputId": "f4b5cf16-f943-4ba1-aa87-fa8d46e3e5ad"
   },
   "outputs": [
    {
     "name": "stdout",
     "output_type": "stream",
     "text": [
      "(71.5%) people report they have an average, fit, or athletic body type\n"
     ]
    }
   ],
   "source": [
    "btypes_fracs = data.body_type.value_counts(normalize=True)\n",
    "types = [\"average\", \"fit\", \"athletic\"]\n",
    "f = btypes_fracs[types].sum()\n",
    "print('({f:.1%}) people report they have an average, fit, or athletic body type'.format(f=f))"
   ]
  },
  {
   "cell_type": "markdown",
   "metadata": {},
   "source": [
    "Note that `value_counts` doesn't count `nan` values. So the fraction I got is out of the people who entred something in that field, even if it was \"rather not say\"."
   ]
  },
  {
   "cell_type": "markdown",
   "metadata": {
    "id": "r9nSZRcjM8pV"
   },
   "source": [
    "### (Bonus) How do you interpret the results of the previous question?  \n",
    "(regarding body type percentages)"
   ]
  },
  {
   "cell_type": "markdown",
   "metadata": {
    "id": "snpcZ_92M8pV"
   },
   "source": [
    "This percentage seems to be higher than the precentage in the general population.  \n",
    "  \n",
    "This could be due to the fact that the OKCupid users are not a random sampling of the general population. For example, users may be younger than the overall populations, or people with these body types may be more likely to use the app.  \n",
    "  \n",
    "Alternatively, users may not reprt their body types accurately.  \n",
    "  \n",
    "These explanations are not mutually exclusive. It is likely that both are at play."
   ]
  },
  {
   "cell_type": "markdown",
   "metadata": {
    "id": "HCeRg666M8pV"
   },
   "source": [
    "***"
   ]
  },
  {
   "cell_type": "markdown",
   "metadata": {
    "id": "o5h5YeUXM8pW"
   },
   "source": [
    "## 5. Analyzing heights"
   ]
  },
  {
   "cell_type": "markdown",
   "metadata": {
    "id": "5mBXQfFcM8pW"
   },
   "source": [
    "### 5.1 Heights are reported in inches. Create a new column in your dataframe containing the heights in cm.  \n",
    "(1 inche = 2.54cm)"
   ]
  },
  {
   "cell_type": "code",
   "execution_count": 11,
   "metadata": {
    "id": "nM33XvxNM8pW"
   },
   "outputs": [],
   "source": [
    "data['height_cm'] = data.height*2.54"
   ]
  },
  {
   "cell_type": "markdown",
   "metadata": {
    "id": "fJgxiDXeM8pW"
   },
   "source": [
    "### 5.2 What are the maximal and minimal heights in the data?  \n",
    "(in cm)"
   ]
  },
  {
   "cell_type": "code",
   "execution_count": 12,
   "metadata": {
    "id": "O0PulquGM8pW",
    "outputId": "859c0b53-dc1a-4a65-ccda-354a474f117c"
   },
   "outputs": [
    {
     "name": "stdout",
     "output_type": "stream",
     "text": [
      "The maximal hieght is 241.3cm and the minimal one is 91.4cm.\n"
     ]
    }
   ],
   "source": [
    "h_max = data.height_cm.max()\n",
    "h_min = data.height_cm.min()\n",
    "print('The maximal hieght is {0:.1f}cm and the minimal one is {1:.1f}cm.'.format(h_max, h_min))"
   ]
  },
  {
   "cell_type": "markdown",
   "metadata": {
    "id": "HAeC_7-7M8pW"
   },
   "source": [
    "### How do you interpret the results of the previous question?  \n",
    "(regarding maximal and minimal height)"
   ]
  },
  {
   "cell_type": "markdown",
   "metadata": {
    "id": "XQKWmqwYM8pW"
   },
   "source": [
    "These extreme heights are very rare.   \n",
    "Since they are much rarer than 1 in 10,000 (the size of our dataset), it is likely that these are not faithful data."
   ]
  },
  {
   "cell_type": "code",
   "execution_count": 21,
   "metadata": {},
   "outputs": [],
   "source": [
    "import seaborn as sns\n",
    "sns.set(style='ticks', font_scale=2, rc={\"lines.linewidth\": 3})"
   ]
  },
  {
   "cell_type": "code",
   "execution_count": 65,
   "metadata": {},
   "outputs": [
    {
     "data": {
      "text/plain": [
       "count    10000.000000\n",
       "mean       173.561248\n",
       "std          9.927545\n",
       "min         91.440000\n",
       "25%        167.640000\n",
       "50%        172.720000\n",
       "75%        180.340000\n",
       "max        241.300000\n",
       "Name: height_cm, dtype: float64"
      ]
     },
     "execution_count": 65,
     "metadata": {},
     "output_type": "execute_result"
    }
   ],
   "source": [
    "data.height_cm.describe()"
   ]
  },
  {
   "cell_type": "code",
   "execution_count": 71,
   "metadata": {},
   "outputs": [
    {
     "data": {
      "text/plain": [
       "<AxesSubplot:xlabel='height_cm', ylabel='Count'>"
      ]
     },
     "execution_count": 71,
     "metadata": {},
     "output_type": "execute_result"
    },
    {
     "data": {
      "image/png": "[encoded data removed]",
      "text/plain": [
       "<Figure size 432x288 with 1 Axes>"
      ]
     },
     "metadata": {},
     "output_type": "display_data"
    }
   ],
   "source": [
    "sns.histplot(data=data, x='height_cm', log_scale=(False,True))"
   ]
  },
  {
   "cell_type": "code",
   "execution_count": 74,
   "metadata": {},
   "outputs": [
    {
     "data": {
      "text/html": [
       "<div>\n",
       "<style scoped>\n",
       "    .dataframe tbody tr th:only-of-type {\n",
       "        vertical-align: middle;\n",
       "    }\n",
       "\n",
       "    .dataframe tbody tr th {\n",
       "        vertical-align: top;\n",
       "    }\n",
       "\n",
       "    .dataframe thead th {\n",
       "        text-align: right;\n",
       "    }\n",
       "</style>\n",
       "<table border=\"1\" class=\"dataframe\">\n",
       "  <thead>\n",
       "    <tr style=\"text-align: right;\">\n",
       "      <th></th>\n",
       "      <th>age</th>\n",
       "      <th>status</th>\n",
       "      <th>sex</th>\n",
       "      <th>orientation</th>\n",
       "      <th>body_type</th>\n",
       "      <th>diet</th>\n",
       "      <th>drinks</th>\n",
       "      <th>drugs</th>\n",
       "      <th>education</th>\n",
       "      <th>ethnicity</th>\n",
       "      <th>...</th>\n",
       "      <th>job</th>\n",
       "      <th>last_online</th>\n",
       "      <th>location</th>\n",
       "      <th>offspring</th>\n",
       "      <th>pets</th>\n",
       "      <th>religion</th>\n",
       "      <th>sign</th>\n",
       "      <th>smokes</th>\n",
       "      <th>speaks</th>\n",
       "      <th>height_cm</th>\n",
       "    </tr>\n",
       "  </thead>\n",
       "  <tbody>\n",
       "    <tr>\n",
       "      <th>2569</th>\n",
       "      <td>26</td>\n",
       "      <td>single</td>\n",
       "      <td>m</td>\n",
       "      <td>straight</td>\n",
       "      <td>NaN</td>\n",
       "      <td>strictly other</td>\n",
       "      <td>NaN</td>\n",
       "      <td>NaN</td>\n",
       "      <td>graduated from college/university</td>\n",
       "      <td>native american</td>\n",
       "      <td>...</td>\n",
       "      <td>NaN</td>\n",
       "      <td>2012-06-29-13-41</td>\n",
       "      <td>san francisco, california</td>\n",
       "      <td>NaN</td>\n",
       "      <td>NaN</td>\n",
       "      <td>NaN</td>\n",
       "      <td>taurus</td>\n",
       "      <td>NaN</td>\n",
       "      <td>english</td>\n",
       "      <td>241.3</td>\n",
       "    </tr>\n",
       "    <tr>\n",
       "      <th>3016</th>\n",
       "      <td>30</td>\n",
       "      <td>single</td>\n",
       "      <td>m</td>\n",
       "      <td>straight</td>\n",
       "      <td>fit</td>\n",
       "      <td>NaN</td>\n",
       "      <td>socially</td>\n",
       "      <td>never</td>\n",
       "      <td>graduated from law school</td>\n",
       "      <td>white</td>\n",
       "      <td>...</td>\n",
       "      <td>law / legal services</td>\n",
       "      <td>2012-04-23-23-36</td>\n",
       "      <td>san francisco, california</td>\n",
       "      <td>NaN</td>\n",
       "      <td>NaN</td>\n",
       "      <td>NaN</td>\n",
       "      <td>aquarius but it doesn&amp;rsquo;t matter</td>\n",
       "      <td>no</td>\n",
       "      <td>english (fluently)</td>\n",
       "      <td>241.3</td>\n",
       "    </tr>\n",
       "    <tr>\n",
       "      <th>8089</th>\n",
       "      <td>55</td>\n",
       "      <td>single</td>\n",
       "      <td>m</td>\n",
       "      <td>straight</td>\n",
       "      <td>rather not say</td>\n",
       "      <td>NaN</td>\n",
       "      <td>desperately</td>\n",
       "      <td>often</td>\n",
       "      <td>dropped out of high school</td>\n",
       "      <td>asian, middle eastern, black, native american,...</td>\n",
       "      <td>...</td>\n",
       "      <td>unemployed</td>\n",
       "      <td>2012-04-19-07-50</td>\n",
       "      <td>berkeley, california</td>\n",
       "      <td>has a kid, but doesn't want more</td>\n",
       "      <td>dislikes dogs and dislikes cats</td>\n",
       "      <td>other and very serious about it</td>\n",
       "      <td>sagittarius but it doesn&amp;rsquo;t matter</td>\n",
       "      <td>when drinking</td>\n",
       "      <td>english</td>\n",
       "      <td>241.3</td>\n",
       "    </tr>\n",
       "  </tbody>\n",
       "</table>\n",
       "<p>3 rows × 22 columns</p>\n",
       "</div>"
      ],
      "text/plain": [
       "      age  status sex orientation       body_type            diet  \\\n",
       "2569   26  single   m    straight             NaN  strictly other   \n",
       "3016   30  single   m    straight             fit             NaN   \n",
       "8089   55  single   m    straight  rather not say             NaN   \n",
       "\n",
       "           drinks  drugs                          education  \\\n",
       "2569          NaN    NaN  graduated from college/university   \n",
       "3016     socially  never          graduated from law school   \n",
       "8089  desperately  often         dropped out of high school   \n",
       "\n",
       "                                              ethnicity  ...  \\\n",
       "2569                                    native american  ...   \n",
       "3016                                              white  ...   \n",
       "8089  asian, middle eastern, black, native american,...  ...   \n",
       "\n",
       "                       job       last_online                   location  \\\n",
       "2569                   NaN  2012-06-29-13-41  san francisco, california   \n",
       "3016  law / legal services  2012-04-23-23-36  san francisco, california   \n",
       "8089            unemployed  2012-04-19-07-50       berkeley, california   \n",
       "\n",
       "                             offspring                             pets  \\\n",
       "2569                               NaN                              NaN   \n",
       "3016                               NaN                              NaN   \n",
       "8089  has a kid, but doesn't want more  dislikes dogs and dislikes cats   \n",
       "\n",
       "                             religion  \\\n",
       "2569                              NaN   \n",
       "3016                              NaN   \n",
       "8089  other and very serious about it   \n",
       "\n",
       "                                         sign         smokes  \\\n",
       "2569                                   taurus            NaN   \n",
       "3016     aquarius but it doesn&rsquo;t matter             no   \n",
       "8089  sagittarius but it doesn&rsquo;t matter  when drinking   \n",
       "\n",
       "                  speaks height_cm  \n",
       "2569             english     241.3  \n",
       "3016  english (fluently)     241.3  \n",
       "8089             english     241.3  \n",
       "\n",
       "[3 rows x 22 columns]"
      ]
     },
     "execution_count": 74,
     "metadata": {},
     "output_type": "execute_result"
    }
   ],
   "source": [
    "data.query(\"height_cm==@h_max\")"
   ]
  },
  {
   "cell_type": "markdown",
   "metadata": {
    "id": "lmswsNHmM8pX"
   },
   "source": [
    "### 5.3 How many men shorter than 170cm are there in the data? How many women?"
   ]
  },
  {
   "cell_type": "code",
   "execution_count": 13,
   "metadata": {
    "id": "BWkQyyT9M8pX",
    "outputId": "f33d25e2-6149-4d0b-e643-3b976063c81c"
   },
   "outputs": [
    {
     "name": "stdout",
     "output_type": "stream",
     "text": [
      "There are 479 men and 2754 women under 170cm.\n"
     ]
    }
   ],
   "source": [
    "h = 170\n",
    "m = ((data['height_cm']<h) & (data['sex']=='m')).sum()\n",
    "w = ((data['height_cm']<h) & (data['sex']=='f')).sum()\n",
    "print('There are {m} men and {w} women under {h}cm.'.format(m=m, w=w, h=h))"
   ]
  },
  {
   "cell_type": "code",
   "execution_count": 14,
   "metadata": {
    "id": "i8pkMVV3M8pX",
    "outputId": "8933e8f0-13dd-43f8-c202-3b4c82132cc9"
   },
   "outputs": [
    {
     "name": "stdout",
     "output_type": "stream",
     "text": [
      "There are 479 men and 2754 women under 170cm.\n"
     ]
    }
   ],
   "source": [
    "## Alternative solution using groupby\n",
    "n = data[data['height_cm']<h].groupby('sex').size()\n",
    "print('There are {m} men and {w} women under {h}cm.'.format(m=n.m, w=n.f, h=h))"
   ]
  },
  {
   "cell_type": "code",
   "execution_count": 15,
   "metadata": {},
   "outputs": [
    {
     "name": "stdout",
     "output_type": "stream",
     "text": [
      "There are 479 men and 2754 women under 170cm.\n"
     ]
    }
   ],
   "source": [
    "## Alternative solution using query\n",
    "m = data.query(\"sex=='m' and height_cm<@h\").shape[0]\n",
    "w = data.query(\"sex=='f' and height_cm<@h\").shape[0]\n",
    "print('There are {m} men and {w} women under {h}cm.'.format(m=m, w=w, h=h))"
   ]
  },
  {
   "cell_type": "code",
   "execution_count": 16,
   "metadata": {},
   "outputs": [
    {
     "name": "stdout",
     "output_type": "stream",
     "text": [
      "There are 479 men and 2754 women under 170cm.\n"
     ]
    }
   ],
   "source": [
    "##  Alternative solution using both query and groupby\n",
    "n = data.query(\"height_cm<@h\").groupby('sex').size()\n",
    "print('There are {m} men and {w} women under {h}cm.'.format(m=n.m, w=n.f, h=h))"
   ]
  },
  {
   "cell_type": "markdown",
   "metadata": {
    "id": "52iagGloM8pX"
   },
   "source": [
    "### How do you interpret the results of the previous question?  \n",
    "(regarding people under 170cm)"
   ]
  },
  {
   "cell_type": "markdown",
   "metadata": {
    "id": "uo6Q2LeyM8pX"
   },
   "source": [
    "It's tempting to conclude that women tend to be shorter than men.   \n",
    "But since the overall number of men and women in the data is not the same, we need to look at the percentage, rather than absolute number of men and women < 170cm.  \n",
    "It turns out that there are  more men than women in the data, making the precentage even more skewed: 0.4% of men and 17.4% of women are < 170cm. (see below)  \n",
    "  \n",
    "  \n",
    "As in the question regaridng body type, it is possible that these data are not representative of the general population, or that people do not reprt these data truthfully. \n"
   ]
  },
  {
   "cell_type": "code",
   "execution_count": 17,
   "metadata": {
    "id": "bU6nPbssM8pY",
    "outputId": "22a04de0-f3cc-4087-ff4e-bf542b9c418e"
   },
   "outputs": [
    {
     "name": "stdout",
     "output_type": "stream",
     "text": [
      "There are 8.1% men and 67.9% women under 170cm.\n"
     ]
    }
   ],
   "source": [
    "n_short = data[data['height_cm']<h].groupby('sex').size()\n",
    "n_all = data.groupby('sex').size()\n",
    "f = n/n_all\n",
    "print('There are {m:.1%} men and {w:.1%} women under {h}cm.'.format(m=f.m, w=f.f, h=h))"
   ]
  },
  {
   "cell_type": "code",
   "execution_count": 53,
   "metadata": {},
   "outputs": [
    {
     "data": {
      "text/plain": [
       "Text(0.5, 1.0, '# of records with height < 170cm')"
      ]
     },
     "execution_count": 53,
     "metadata": {},
     "output_type": "execute_result"
    },
    {
     "data": {
      "image/png": "[encoded data removed]",
      "text/plain": [
       "<Figure size 432x288 with 1 Axes>"
      ]
     },
     "metadata": {},
     "output_type": "display_data"
    }
   ],
   "source": [
    "ax = sns.histplot(data=data.query(\"height_cm<@h\"), x='sex')\n",
    "ax.set_title('# of records with height < 170cm')"
   ]
  },
  {
   "cell_type": "code",
   "execution_count": 64,
   "metadata": {},
   "outputs": [
    {
     "data": {
      "text/plain": [
       "Text(0.5, 1.0, 'Total # of records')"
      ]
     },
     "execution_count": 64,
     "metadata": {},
     "output_type": "execute_result"
    },
    {
     "data": {
      "image/png": "[encoded data removed]",
      "text/plain": [
       "<Figure size 432x288 with 1 Axes>"
      ]
     },
     "metadata": {},
     "output_type": "display_data"
    }
   ],
   "source": [
    "ax = sns.histplot(data=data, x='sex')\n",
    "ax.set_title('Total # of records')"
   ]
  },
  {
   "cell_type": "code",
   "execution_count": 63,
   "metadata": {},
   "outputs": [
    {
     "data": {
      "text/plain": [
       "Text(0, 0.5, 'percent')"
      ]
     },
     "execution_count": 63,
     "metadata": {},
     "output_type": "execute_result"
    },
    {
     "data": {
      "image/png": "[encoded data removed]",
      "text/plain": [
       "<Figure size 432x288 with 1 Axes>"
      ]
     },
     "metadata": {},
     "output_type": "display_data"
    }
   ],
   "source": [
    "ax = (f.iloc[::-1]*100).plot(kind='bar', rot=0)\n",
    "ax.set_title('% of records with height < 170cm')\n",
    "ax.set_ylabel('percent')"
   ]
  }
 ],
 "metadata": {
  "colab": {
   "collapsed_sections": [],
   "name": "problem_set_1.ipynb",
   "provenance": []
  },
  "kernelspec": {
   "display_name": "Python 3",
   "language": "python",
   "name": "python3"
  },
  "language_info": {
   "codemirror_mode": {
    "name": "ipython",
    "version": 3
   },
   "file_extension": ".py",
   "mimetype": "text/x-python",
   "name": "python",
   "nbconvert_exporter": "python",
   "pygments_lexer": "ipython3",
   "version": "3.7.6"
  }
 },
 "nbformat": 4,
 "nbformat_minor": 4
}
